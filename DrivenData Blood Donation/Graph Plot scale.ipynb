{
 "cells": [
  {
   "cell_type": "code",
   "execution_count": 1,
   "metadata": {
    "collapsed": false
   },
   "outputs": [
    {
     "name": "stderr",
     "output_type": "stream",
     "text": [
      "/Users/_root_nishi/anaconda/lib/python2.7/site-packages/matplotlib/tight_layout.py:225: UserWarning: tight_layout : falling back to Agg renderer\n",
      "  warnings.warn(\"tight_layout : falling back to Agg renderer\")\n"
     ]
    }
   ],
   "source": [
    "import matplotlib.pyplot as plt\n",
    "import numpy as np\n",
    "\n",
    "def powerfunc(x):\n",
    "    return x * x\n",
    "\n",
    "def expfunc(x):\n",
    "    return np.exp(x*5)\n",
    "\n",
    "xvalues = np.linspace(0.0,1.0,100)\n",
    "\n",
    "ypower = np.zeros(len(xvalues))\n",
    "yexp = np.zeros(len(xvalues))\n",
    "\n",
    "ypower = powerfunc(xvalues)\n",
    "yexp = expfunc(xvalues)\n",
    "\n",
    "fig = plt.figure(figsize=(13.5, 6.0), dpi=100)\n",
    "\n",
    "ax = plt.subplot(2,3,1)\n",
    "plt.title('power function lin-lin scale')\n",
    "plt.plot(xvalues,ypower,label='y=x*x')\n",
    "plt.legend(loc='upper left')\n",
    "\n",
    "plt.subplot(2,3,2)\n",
    "plt.title('power function lin-log scale')\n",
    "plt.yscale('log')\n",
    "plt.plot(xvalues,ypower,label='y=x*x')\n",
    "plt.legend(loc='upper left')\n",
    "\n",
    "plt.subplot(2,3,3)\n",
    "plt.title('power function log-log scale')\n",
    "plt.xscale('log')\n",
    "plt.yscale('log')\n",
    "plt.plot(xvalues,ypower,label='y=x*x')\n",
    "plt.legend(loc='upper left')\n",
    "\n",
    "plt.subplot(2,3,4)\n",
    "plt.title('exp function lin-lin scale')\n",
    "plt.plot(xvalues,yexp,label='y=exp(5x)')\n",
    "plt.legend(loc='upper left')\n",
    "\n",
    "plt.subplot(2,3,5)\n",
    "plt.title('exp function lin-log scale')\n",
    "plt.yscale('log')\n",
    "plt.plot(xvalues,yexp,label='y=exp(5x)')\n",
    "plt.legend(loc='upper left')\n",
    "\n",
    "plt.subplot(2,3,6)\n",
    "plt.title('exp function log-log scale')\n",
    "plt.xscale('log')\n",
    "plt.yscale('log')\n",
    "plt.plot(xvalues,yexp,label='y=exp(5x)')\n",
    "plt.legend(loc='upper left')\n",
    "\n",
    "plt.tight_layout()\n",
    "plt.show()"
   ]
  },
  {
   "cell_type": "code",
   "execution_count": null,
   "metadata": {
    "collapsed": true
   },
   "outputs": [],
   "source": []
  }
 ],
 "metadata": {
  "kernelspec": {
   "display_name": "Python 2",
   "language": "python",
   "name": "python2"
  },
  "language_info": {
   "codemirror_mode": {
    "name": "ipython",
    "version": 2
   },
   "file_extension": ".py",
   "mimetype": "text/x-python",
   "name": "python",
   "nbconvert_exporter": "python",
   "pygments_lexer": "ipython2",
   "version": "2.7.10"
  }
 },
 "nbformat": 4,
 "nbformat_minor": 0
}
