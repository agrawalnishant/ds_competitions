{
 "cells": [
  {
   "cell_type": "code",
   "execution_count": 147,
   "metadata": {
    "collapsed": false
   },
   "outputs": [],
   "source": [
    "get_ipython().magic(u'matplotlib inline')\n",
    "# Import libraries\n",
    "import numpy as np\n",
    "import pandas as pd\n",
    "import matplotlib\n",
    "import matplotlib.pyplot as plt\n",
    "from time import time\n",
    "from __future__ import division\n",
    "from sklearn import cross_validation\n",
    "\n",
    "from sklearn.metrics import f1_score\n",
    "import warnings\n",
    "warnings.filterwarnings('ignore')\n",
    "\n",
    "pd.options.display.float_format = '{:.5f}'.format\n",
    "pd.set_option('display.max_columns', 500)\n",
    "pd.set_option('display.width', 1000)"
   ]
  },
  {
   "cell_type": "code",
   "execution_count": 148,
   "metadata": {
    "collapsed": false
   },
   "outputs": [
    {
     "name": "stdout",
     "output_type": "stream",
     "text": [
      "   Unnamed: 0  Months since Last Donation  Number of Donations  Total Volume Donated (c.c.)  Months since First Donation\n",
      "0         659                           2                   12                         3000                           52\n",
      "1         276                          21                    7                         1750                           38\n",
      "2         263                           4                    1                          250                            4\n",
      "3         303                          11                   11                         2750                           38\n",
      "4          83                           4                   12                         3000                           34\n",
      "Student data read successfully!\n",
      "orig: (576, 6)\n",
      "reduced: (572, 6)\n"
     ]
    }
   ],
   "source": [
    "donation_data_train_orig = pd.read_csv(\"bd_train.csv\")\n",
    "donation_data_test = pd.read_csv(\"bd_test.csv\")\n",
    "print donation_data_test.head()\n",
    "print \"Student data read successfully!\"\n",
    "#print \"Training Data:\\n\", donation_data_train.head()\n",
    "#print \"\\nTest Data:\\n\", donation_data_test.head()\n",
    "\n",
    "print \"orig:\",donation_data_train_orig.shape\n",
    "donation_data_train=donation_data_train_orig[donation_data_train_orig['Months since Last Donation']<30]\n",
    "print \"reduced:\", donation_data_train.shape"
   ]
  },
  {
   "cell_type": "code",
   "execution_count": 149,
   "metadata": {
    "collapsed": false
   },
   "outputs": [
    {
     "name": "stdout",
     "output_type": "stream",
     "text": [
      "Total number of donors: 572\n",
      "Total number of features: 4\n"
     ]
    }
   ],
   "source": [
    "n_donors = donation_data_train.shape[0]\n",
    "n_features = donation_data_train.shape[1]-2\n",
    "print \"Total number of donors: {}\".format(n_donors)\n",
    "print \"Total number of features: {}\".format(n_features)"
   ]
  },
  {
   "cell_type": "code",
   "execution_count": 150,
   "metadata": {
    "collapsed": false
   },
   "outputs": [
    {
     "name": "stdout",
     "output_type": "stream",
     "text": [
      "Target column: Made Donation in March 2007\n",
      "Feature column(s):-\n",
      "['Months since Last Donation', 'Number of Donations', 'Total Volume Donated (c.c.)', 'Months since First Donation']\n"
     ]
    }
   ],
   "source": [
    "# Extract feature (X) and target (y) columns\n",
    "feature_cols = list(donation_data_train.columns[1:-1])  # all columns but last are features\n",
    "target_col = donation_data_train.columns[-1]  # last column is the target/label\n",
    "print \"Target column: {}\".format(target_col)\n",
    "print \"Feature column(s):-\\n{}\".format(feature_cols)\n",
    "\n",
    "#axes = plt.gca()\n",
    "\n",
    "\n",
    "X_all = donation_data_train[feature_cols]  # feature values for all students\n",
    "y_all = donation_data_train[target_col]  # corresponding targets/labels\n",
    "X_all_test=donation_data_test[feature_cols] \n",
    "\n",
    "\n",
    "#plt.scatter(X_all['Months since Last Donation'],X_all['Months since First Donation'])\n",
    "#plt.ylabel(\"Months since Last Donation\")\n",
    "#plt.xlabel(\"Months since First Donation\")\n",
    "#plt.show()"
   ]
  },
  {
   "cell_type": "code",
   "execution_count": 151,
   "metadata": {
    "collapsed": false
   },
   "outputs": [],
   "source": [
    "#from sklearn.decomposition import PCA\n",
    "# Reduce features\n",
    "#pca = PCA(n_components=2,whiten=True).fit(X_all)\n",
    "#X_train_pca = pca.transform(X_all)\n",
    "#X_test_pca = pca.transform(X_all_test)"
   ]
  },
  {
   "cell_type": "code",
   "execution_count": 152,
   "metadata": {
    "collapsed": false
   },
   "outputs": [
    {
     "name": "stdout",
     "output_type": "stream",
     "text": [
      "best: {'min_samples_split': 1, 'min_samples_leaf': 4}\n",
      "log_loss 0.0\n",
      "(200,)\n",
      "(200, 2)\n",
      "    \n"
     ]
    }
   ],
   "source": [
    "from sklearn import grid_search\n",
    "from sklearn.metrics import log_loss\n",
    "\n",
    "\n",
    "from sklearn.grid_search import GridSearchCV\n",
    "from sklearn.ensemble import RandomForestClassifier\n",
    "\n",
    "\n",
    "np.set_printoptions(threshold=np.nan)\n",
    "np.set_printoptions(precision=3)\n",
    "np.set_printoptions(suppress=True)\n",
    "\n",
    "param_dist = {\"min_samples_split\": [1,2],\n",
    "              \"min_samples_leaf\": [4,5,6]\n",
    "             }\n",
    "\n",
    "\n",
    "# build a classifier\n",
    "clf = RandomForestClassifier(n_estimators=10,max_features=2,criterion=\"entropy\",\n",
    "                             bootstrap=\"True\",max_depth=2)\n",
    "\n",
    "from sklearn.cross_validation import StratifiedShuffleSplit\n",
    "sss = StratifiedShuffleSplit(y_all, 4, test_size=0.4, random_state=11)\n",
    "# run grid search\n",
    "gs_clf = GridSearchCV(clf, param_grid=param_dist,cv=sss,scoring='log_loss')\n",
    "gs_clf.fit(X_all,y_all)\n",
    "\n",
    "print \"best:\", gs_clf.best_params_\n",
    "\n",
    "#print \"best: \", gs_clf.best_estimator_\n",
    "y_preds = gs_clf.predict_proba(X_all_test)\n",
    "print \"log_loss\", f1_score(y_all,gs_clf.predict(X_all)) \n",
    "\n",
    "\n",
    "print X_all_test.iloc[:,0].shape\n",
    "print y_preds.shape\n",
    "print \"    \"\n",
    "\n",
    "#print y_preds"
   ]
  },
  {
   "cell_type": "code",
   "execution_count": 153,
   "metadata": {
    "collapsed": false
   },
   "outputs": [
    {
     "name": "stdout",
     "output_type": "stream",
     "text": [
      "659 , 0.4147\n",
      "276 , 0.2124\n",
      "263 , 0.1787\n",
      "303 , 0.3856\n",
      "83 , 0.4721\n",
      "500 , 0.4721\n",
      "530 , 0.2001\n",
      "244 , 0.1031\n",
      "249 , 0.1073\n",
      "728 , 0.1616\n",
      "129 , 0.1511\n",
      "534 , 0.3282\n",
      "317 , 0.4147\n",
      "401 , 0.1787\n",
      "696 , 0.2909\n",
      "192 , 0.1426\n",
      "176 , 0.3663\n",
      "571 , 0.4237\n",
      "139 , 0.1549\n",
      "423 , 0.2909\n",
      "563 , 0.4721\n",
      "56 , 0.4721\n",
      "528 , 0.4721\n",
      "101 , 0.1787\n",
      "467 , 0.2137\n",
      "382 , 0.4147\n",
      "466 , 0.2001\n",
      "294 , 0.1031\n",
      "512 , 0.2137\n",
      "659 , 0.4147\n",
      "389 , 0.4147\n",
      "487 , 0.1549\n",
      "701 , 0.1787\n",
      "419 , 0.4147\n",
      "536 , 0.1688\n",
      "240 , 0.3856\n",
      "508 , 0.1688\n",
      "515 , 0.1031\n",
      "283 , 0.4721\n",
      "650 , 0.1787\n",
      "65 , 0.2001\n",
      "228 , 0.2277\n",
      "741 , 0.1702\n",
      "297 , 0.4427\n",
      "464 , 0.1511\n",
      "63 , 0.1787\n",
      "231 , 0.2909\n",
      "28 , 0.1511\n",
      "248 , 0.1031\n",
      "357 , 0.2423\n",
      "300 , 0.4147\n",
      "726 , 0.4147\n",
      "680 , 0.1616\n",
      "520 , 0.4721\n",
      "254 , 0.1073\n",
      "582 , 0.3282\n",
      "143 , 0.4147\n",
      "98 , 0.4427\n",
      "1 , 0.2909\n",
      "221 , 0.4147\n",
      "352 , 0.1787\n",
      "64 , 0.1327\n",
      "138 , 0.1896\n",
      "745 , 0.4147\n",
      "64 , 0.1327\n",
      "688 , 0.1073\n",
      "623 , 0.1997\n",
      "289 , 0.1549\n",
      "174 , 0.4237\n",
      "690 , 0.1787\n",
      "105 , 0.3368\n",
      "427 , 0.1362\n",
      "48 , 0.0777\n",
      "14 , 0.1787\n",
      "657 , 0.1015\n",
      "301 , 0.3282\n",
      "455 , 0.1511\n",
      "579 , 0.4147\n",
      "722 , 0.1362\n",
      "98 , 0.4427\n",
      "491 , 0.0777\n",
      "303 , 0.3856\n",
      "466 , 0.2001\n",
      "65 , 0.2001\n",
      "300 , 0.4147\n",
      "9 , 0.0777\n",
      "622 , 0.1426\n",
      "323 , 0.1073\n",
      "289 , 0.1549\n",
      "568 , 0.2909\n",
      "290 , 0.1787\n",
      "156 , 0.1688\n",
      "464 , 0.1511\n",
      "426 , 0.1073\n",
      "306 , 0.2471\n",
      "4 , 0.3856\n",
      "12 , 0.4427\n",
      "187 , 0.3282\n",
      "406 , 0.1549\n",
      "96 , 0.2001\n",
      "509 , 0.1787\n",
      "733 , 0.3088\n",
      "548 , 0.0910\n",
      "478 , 0.3749\n",
      "501 , 0.1327\n",
      "127 , 0.3067\n",
      "199 , 0.1896\n",
      "299 , 0.4721\n",
      "162 , 0.1787\n",
      "235 , 0.1257\n",
      "23 , 0.1327\n",
      "473 , 0.1787\n",
      "487 , 0.1549\n",
      "683 , 0.4721\n",
      "303 , 0.3856\n",
      "309 , 0.0910\n",
      "569 , 0.0777\n",
      "34 , 0.4721\n",
      "686 , 0.4721\n",
      "84 , 0.1688\n",
      "733 , 0.3088\n",
      "537 , 0.4721\n",
      "181 , 0.1616\n",
      "453 , 0.4147\n",
      "67 , 0.4147\n",
      "161 , 0.4147\n",
      "307 , 0.4721\n",
      "703 , 0.1640\n",
      "181 , 0.1616\n",
      "246 , 0.1327\n",
      "316 , 0.4427\n",
      "278 , 0.1426\n",
      "346 , 0.1511\n",
      "545 , 0.1787\n",
      "419 , 0.4147\n",
      "694 , 0.2001\n",
      "622 , 0.1426\n",
      "663 , 0.1511\n",
      "262 , 0.4721\n",
      "461 , 0.4147\n",
      "373 , 0.4147\n",
      "233 , 0.1787\n",
      "466 , 0.2001\n",
      "207 , 0.4147\n",
      "263 , 0.1787\n",
      "16 , 0.0777\n",
      "513 , 0.0910\n",
      "449 , 0.4427\n",
      "429 , 0.0910\n",
      "701 , 0.1787\n",
      "632 , 0.1073\n",
      "529 , 0.4721\n",
      "245 , 0.3856\n",
      "344 , 0.2277\n",
      "353 , 0.1257\n",
      "241 , 0.3662\n",
      "633 , 0.0777\n",
      "624 , 0.1787\n",
      "726 , 0.4147\n",
      "189 , 0.1426\n",
      "138 , 0.1896\n",
      "402 , 0.1031\n",
      "511 , 0.4721\n",
      "590 , 0.4237\n",
      "334 , 0.2137\n",
      "447 , 0.1257\n",
      "119 , 0.2001\n",
      "389 , 0.4147\n",
      "644 , 0.1787\n",
      "423 , 0.2909\n",
      "131 , 0.0777\n",
      "405 , 0.0777\n",
      "82 , 0.1787\n",
      "643 , 0.4147\n",
      "156 , 0.1688\n",
      "617 , 0.0910\n",
      "574 , 0.2450\n",
      "272 , 0.4147\n",
      "613 , 0.1327\n",
      "545 , 0.1787\n",
      "685 , 0.1031\n",
      "570 , 0.3368\n",
      "537 , 0.4721\n",
      "691 , 0.0777\n",
      "85 , 0.4147\n",
      "483 , 0.1327\n",
      "455 , 0.1511\n",
      "93 , 0.1426\n",
      "744 , 0.1787\n",
      "33 , 0.1327\n",
      "321 , 0.4147\n",
      "523 , 0.2137\n",
      "426 , 0.1073\n",
      "196 , 0.1327\n",
      "301 , 0.3282\n",
      "103 , 0.0777\n",
      "224 , 0.1073\n",
      "454 , 0.2124\n",
      "585 , 0.1073\n",
      "154 , 0.4147\n"
     ]
    }
   ],
   "source": [
    "for i in range(0,len(X_all_test)):\n",
    "    print donation_data_test.iloc[i,0],\",\",\"{:.4f}\".format(y_preds[i,1])\n"
   ]
  },
  {
   "cell_type": "code",
   "execution_count": null,
   "metadata": {
    "collapsed": true
   },
   "outputs": [],
   "source": []
  },
  {
   "cell_type": "code",
   "execution_count": null,
   "metadata": {
    "collapsed": true
   },
   "outputs": [],
   "source": []
  }
 ],
 "metadata": {
  "kernelspec": {
   "display_name": "Python 2",
   "language": "python",
   "name": "python2"
  },
  "language_info": {
   "codemirror_mode": {
    "name": "ipython",
    "version": 2
   },
   "file_extension": ".py",
   "mimetype": "text/x-python",
   "name": "python",
   "nbconvert_exporter": "python",
   "pygments_lexer": "ipython2",
   "version": "2.7.10"
  }
 },
 "nbformat": 4,
 "nbformat_minor": 0
}
