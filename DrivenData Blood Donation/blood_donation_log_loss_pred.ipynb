{
 "cells": [
  {
   "cell_type": "code",
   "execution_count": 16,
   "metadata": {
    "collapsed": false
   },
   "outputs": [],
   "source": [
    "get_ipython().magic(u'matplotlib inline')\n",
    "# Import libraries\n",
    "import numpy as np\n",
    "import pandas as pd\n",
    "import matplotlib\n",
    "import matplotlib.pyplot as plt\n",
    "from time import time\n",
    "from __future__ import division\n",
    "from sklearn import cross_validation\n",
    "\n",
    "from sklearn.metrics import f1_score\n",
    "import warnings\n",
    "warnings.filterwarnings('ignore')\n",
    "\n",
    "pd.options.display.float_format = '{:.5f}'.format\n",
    "pd.set_option('display.max_columns', 500)\n",
    "pd.set_option('display.width', 1000)"
   ]
  },
  {
   "cell_type": "code",
   "execution_count": 17,
   "metadata": {
    "collapsed": false
   },
   "outputs": [
    {
     "name": "stdout",
     "output_type": "stream",
     "text": [
      "Student data read successfully!\n",
      "Training Data:\n",
      "   Unnamed: 0  Months since Last Donation  Number of Donations  Total Volume Donated (c.c.)  Months since First Donation  Made Donation in March 2007\n",
      "0         619                           2                   50                        12500                           98                            1\n",
      "1         664                           0                   13                         3250                           28                            1\n",
      "2         441                           1                   16                         4000                           35                            1\n",
      "3         160                           2                   20                         5000                           45                            1\n",
      "4         358                           1                   24                         6000                           77                            0\n",
      "\n",
      "Test Data:\n",
      "   Unnamed: 0  Months since Last Donation  Number of Donations  Total Volume Donated (c.c.)  Months since First Donation\n",
      "0         659                           2                   12                         3000                           52\n",
      "1         276                          21                    7                         1750                           38\n",
      "2         263                           4                    1                          250                            4\n",
      "3         303                          11                   11                         2750                           38\n",
      "4          83                           4                   12                         3000                           34\n"
     ]
    }
   ],
   "source": [
    "donation_data_train = pd.read_csv(\"bd_train.csv\")\n",
    "donation_data_test = pd.read_csv(\"bd_test.csv\")\n",
    "print \"Student data read successfully!\"\n",
    "print \"Training Data:\\n\", donation_data_train.head()\n",
    "print \"\\nTest Data:\\n\", donation_data_test.head()"
   ]
  },
  {
   "cell_type": "code",
   "execution_count": 18,
   "metadata": {
    "collapsed": false
   },
   "outputs": [
    {
     "name": "stdout",
     "output_type": "stream",
     "text": [
      "Total number of donors: 576\n",
      "Total number of features: 4\n"
     ]
    }
   ],
   "source": [
    "n_donors = donation_data_train.shape[0]\n",
    "n_features = donation_data_train.shape[1]-2\n",
    "print \"Total number of donors: {}\".format(n_donors)\n",
    "print \"Total number of features: {}\".format(n_features)"
   ]
  },
  {
   "cell_type": "code",
   "execution_count": 19,
   "metadata": {
    "collapsed": false
   },
   "outputs": [
    {
     "name": "stdout",
     "output_type": "stream",
     "text": [
      "Target column: Made Donation in March 2007\n",
      "Feature column(s):-\n",
      "['Months since Last Donation', 'Number of Donations', 'Total Volume Donated (c.c.)', 'Months since First Donation']\n",
      "head: 0    2\n",
      "1    0\n",
      "2    1\n",
      "3    2\n",
      "4    1\n",
      "Name: Months since Last Donation, dtype: int64\n"
     ]
    },
    {
     "data": {
      "image/png": "[encoded data removed]",
      "text/plain": [
       "<matplotlib.figure.Figure at 0x1087dc150>"
      ]
     },
     "metadata": {},
     "output_type": "display_data"
    },
    {
     "name": "stdout",
     "output_type": "stream",
     "text": [
      "head: 0    50\n",
      "1    13\n",
      "2    16\n",
      "3    20\n",
      "4    24\n",
      "Name: Number of Donations, dtype: int64\n"
     ]
    },
    {
     "data": {
      "image/png": "[encoded data removed]",
      "text/plain": [
       "<matplotlib.figure.Figure at 0x10854e4d0>"
      ]
     },
     "metadata": {},
     "output_type": "display_data"
    },
    {
     "name": "stdout",
     "output_type": "stream",
     "text": [
      "head: 0    12500\n",
      "1     3250\n",
      "2     4000\n",
      "3     5000\n",
      "4     6000\n",
      "Name: Total Volume Donated (c.c.), dtype: int64\n"
     ]
    },
    {
     "data": {
      "image/png": "[encoded data removed]",
      "text/plain": [
       "<matplotlib.figure.Figure at 0x108f577d0>"
      ]
     },
     "metadata": {},
     "output_type": "display_data"
    },
    {
     "name": "stdout",
     "output_type": "stream",
     "text": [
      "head: 0    98\n",
      "1    28\n",
      "2    35\n",
      "3    45\n",
      "4    77\n",
      "Name: Months since First Donation, dtype: int64\n"
     ]
    },
    {
     "data": {
      "image/png": "[encoded data removed]",
      "text/plain": [
       "<matplotlib.figure.Figure at 0x10923fe50>"
      ]
     },
     "metadata": {},
     "output_type": "display_data"
    },
    {
     "data": {
      "image/png": "[encoded data removed]",
      "text/plain": [
       "<matplotlib.figure.Figure at 0x10876b9d0>"
      ]
     },
     "metadata": {},
     "output_type": "display_data"
    }
   ],
   "source": [
    "# Extract feature (X) and target (y) columns\n",
    "feature_cols = list(donation_data_train.columns[1:-1])  # all columns but last are features\n",
    "target_col = donation_data_train.columns[-1]  # last column is the target/label\n",
    "print \"Target column: {}\".format(target_col)\n",
    "print \"Feature column(s):-\\n{}\".format(feature_cols)\n",
    "\n",
    "axes = plt.gca()\n",
    "\n",
    "\n",
    "X_all = donation_data_train[feature_cols]  # feature values for all students\n",
    "y_all = donation_data_train[target_col]  # corresponding targets/labels\n",
    "X_all_test=donation_data_test[feature_cols] \n",
    "\n",
    "X=X_all['Months since Last Donation']\n",
    "print \"head:\",X.head()\n",
    "plt.scatter(X,y_all+np.random.uniform(-0.05,0.05,576))\n",
    "axes.set_xlim([0,30])\n",
    "plt.show()\n",
    "\n",
    "X=X_all['Number of Donations']\n",
    "print \"head:\",X.head()\n",
    "plt.scatter(X,y_all+np.random.uniform(-0.05,0.05,576))\n",
    "plt.gca().set_xlim([0,30])\n",
    "plt.show()\n",
    "\n",
    "X=X_all['Total Volume Donated (c.c.)']\n",
    "print \"head:\",X.head()\n",
    "plt.gca().set_xlim([0,6000])\n",
    "plt.scatter(X,y_all+np.random.uniform(-0.05,0.05,576))\n",
    "plt.show()\n",
    "\n",
    "X=X_all['Months since First Donation']\n",
    "print \"head:\",X.head()\n",
    "plt.gca().set_xlim([0,100])\n",
    "plt.scatter(X,y_all+np.random.uniform(-0.05,0.05,576))\n",
    "plt.show()\n",
    "\n",
    "plt.scatter(X_all['Months since Last Donation'],X_all['Months since First Donation'])\n",
    "plt.ylabel(\"Months since Last Donation\")\n",
    "plt.xlabel(\"Months since First Donation\")\n",
    "plt.show()"
   ]
  },
  {
   "cell_type": "code",
   "execution_count": 20,
   "metadata": {
    "collapsed": false
   },
   "outputs": [
    {
     "name": "stdout",
     "output_type": "stream",
     "text": [
      "Visualizing all features\n"
     ]
    },
    {
     "data": {
      "image/png": "[encoded data removed]",
      "text/plain": [
       "<matplotlib.figure.Figure at 0x1087b68d0>"
      ]
     },
     "metadata": {},
     "output_type": "display_data"
    },
    {
     "name": "stdout",
     "output_type": "stream",
     "text": [
      "Since variance becomes negligible after 2, hence will use n_components=2 for pca\n",
      "done in 0.00040s\n",
      "X_test_pca:  (200, 3)\n"
     ]
    }
   ],
   "source": [
    "\n",
    "from sklearn.decomposition import RandomizedPCA\n",
    "\n",
    "# Reduce features\n",
    "pca = RandomizedPCA(whiten=True).fit(X_all)\n",
    "print \"Visualizing all features\"\n",
    "pc_df=pd.DataFrame({\"pca\":pca.explained_variance_ratio_})\n",
    "plt.plot(pc_df)\n",
    "plt.ylabel('pca (exp vari. ratios)')\n",
    "plt.xlabel('features')\n",
    "plt.show()\n",
    "\n",
    "\n",
    "print \"Since variance becomes negligible after 2, hence will use n_components=2 for pca\"\n",
    "\n",
    "# Reduce features\n",
    "pca = RandomizedPCA(n_components=2,whiten=True).fit(X_all)\n",
    "\n",
    "t0 = time()\n",
    "X_train_pca = pca.transform(X_all)\n",
    "X_test_pca = pca.transform(X_all_test)\n",
    "print \"done in %0.5fs\" % (time() - t0)\n",
    "print \"X_test_pca: \", X_test_pca.shape"
   ]
  },
  {
   "cell_type": "code",
   "execution_count": 21,
   "metadata": {
    "collapsed": false
   },
   "outputs": [
    {
     "name": "stdout",
     "output_type": "stream",
     "text": [
      "best:  {}\n",
      "sig f1 0.522522522523\n",
      "(200,)\n",
      "(200, 2)\n",
      "    \n"
     ]
    }
   ],
   "source": [
    "from sklearn import grid_search\n",
    "from sklearn.metrics import log_loss\n",
    "\n",
    "\n",
    "from sklearn.grid_search import GridSearchCV\n",
    "from sklearn.ensemble import AdaBoostClassifier\n",
    "\n",
    "\n",
    "np.set_printoptions(threshold=np.nan)\n",
    "np.set_printoptions(precision=3)\n",
    "np.set_printoptions(suppress=True)\n",
    "\n",
    "param_dist = {\"n_estimators\": [50,80,100],\n",
    "              \"learning_rate\": [0.7,0.8,0.9,1.0],\n",
    "              \"algorithm\": [\"SAMME\", \"SAMME.R\"]}\n",
    "\n",
    "# build a classifier\n",
    "clf = AdaBoostClassifier()\n",
    "\n",
    "# run grid search\n",
    "gs_clf = GridSearchCV(clf, param_grid=param_dist,cv=10)\n",
    "gs_clf.fit(X_train_pca,y_all)\n",
    "\n",
    "print \"best: \", gs_clf.fit_params\n",
    "\n",
    "y_preds = gs_clf.predict_proba(X_test_pca)\n",
    "print \"sig f1\", f1_score(y_all,gs_clf.predict(X_train_pca),pos_label=1) \n",
    "\n",
    "print X_all_test.iloc[:,0].shape\n",
    "print y_preds.shape\n",
    "print \"    \"\n",
    "\n",
    "#print y_preds"
   ]
  },
  {
   "cell_type": "code",
   "execution_count": 22,
   "metadata": {
    "collapsed": false
   },
   "outputs": [
    {
     "name": "stdout",
     "output_type": "stream",
     "text": [
      "659 , 0.48142\n",
      "276 , 0.47456\n",
      "263 , 0.45459\n",
      "303 , 0.48669\n",
      "83 , 0.48826\n",
      "500 , 0.49783\n",
      "530 , 0.46282\n",
      "244 , 0.44677\n",
      "249 , 0.42270\n",
      "728 , 0.43628\n",
      "129 , 0.45498\n",
      "534 , 0.47101\n",
      "317 , 0.47101\n",
      "401 , 0.45459\n",
      "696 , 0.46282\n",
      "192 , 0.44833\n",
      "176 , 0.48826\n",
      "571 , 0.48826\n",
      "139 , 0.45995\n",
      "423 , 0.46282\n",
      "563 , 0.49458\n",
      "56 , 0.49458\n",
      "528 , 0.49458\n",
      "101 , 0.45459\n",
      "467 , 0.44975\n",
      "382 , 0.47101\n",
      "466 , 0.46282\n",
      "294 , 0.44677\n",
      "512 , 0.46282\n",
      "659 , 0.48142\n",
      "389 , 0.47101\n",
      "487 , 0.45404\n",
      "701 , 0.45459\n",
      "419 , 0.48142\n",
      "536 , 0.44975\n",
      "240 , 0.48826\n",
      "508 , 0.44975\n",
      "515 , 0.44677\n",
      "283 , 0.49458\n",
      "650 , 0.45459\n",
      "65 , 0.46282\n",
      "228 , 0.47353\n",
      "741 , 0.46780\n",
      "297 , 0.49458\n",
      "464 , 0.44350\n",
      "63 , 0.45459\n",
      "231 , 0.46282\n",
      "28 , 0.44350\n",
      "248 , 0.44677\n",
      "357 , 0.48669\n",
      "300 , 0.48142\n",
      "726 , 0.49078\n",
      "680 , 0.45498\n",
      "520 , 0.48142\n",
      "254 , 0.44296\n",
      "582 , 0.47511\n",
      "143 , 0.46780\n",
      "98 , 0.49458\n",
      "1 , 0.44975\n",
      "221 , 0.48142\n",
      "352 , 0.45459\n",
      "64 , 0.44975\n",
      "138 , 0.47511\n",
      "745 , 0.48142\n",
      "64 , 0.44975\n",
      "688 , 0.44194\n",
      "623 , 0.43628\n",
      "289 , 0.47456\n",
      "174 , 0.48142\n",
      "690 , 0.45459\n",
      "105 , 0.47511\n",
      "427 , 0.45498\n",
      "48 , 0.43353\n",
      "14 , 0.45459\n",
      "657 , 0.43168\n",
      "301 , 0.47101\n",
      "455 , 0.44350\n",
      "579 , 0.47101\n",
      "722 , 0.44194\n",
      "98 , 0.49458\n",
      "491 , 0.43353\n",
      "303 , 0.48669\n",
      "466 , 0.46282\n",
      "65 , 0.46282\n",
      "300 , 0.48142\n",
      "9 , 0.44296\n",
      "622 , 0.44833\n",
      "323 , 0.44194\n",
      "289 , 0.47456\n",
      "568 , 0.46282\n",
      "290 , 0.45459\n",
      "156 , 0.43945\n",
      "464 , 0.44350\n",
      "426 , 0.45498\n",
      "306 , 0.48669\n",
      "4 , 0.48826\n",
      "12 , 0.49458\n",
      "187 , 0.47511\n",
      "406 , 0.46417\n",
      "96 , 0.46282\n",
      "509 , 0.45459\n",
      "733 , 0.47101\n",
      "548 , 0.44296\n",
      "478 , 0.48142\n",
      "501 , 0.45654\n",
      "127 , 0.46282\n",
      "199 , 0.46472\n",
      "299 , 0.48142\n",
      "162 , 0.45459\n",
      "235 , 0.45498\n",
      "23 , 0.45654\n",
      "473 , 0.45459\n",
      "487 , 0.45404\n",
      "683 , 0.49458\n",
      "303 , 0.48669\n",
      "309 , 0.43168\n",
      "569 , 0.44296\n",
      "34 , 0.49458\n",
      "686 , 0.48826\n",
      "84 , 0.46282\n",
      "733 , 0.47101\n",
      "537 , 0.49458\n",
      "181 , 0.44350\n",
      "453 , 0.49710\n",
      "67 , 0.48142\n",
      "161 , 0.48142\n",
      "307 , 0.48142\n",
      "703 , 0.45654\n",
      "181 , 0.44350\n",
      "246 , 0.45498\n",
      "316 , 0.49458\n",
      "278 , 0.44833\n",
      "346 , 0.45654\n",
      "545 , 0.45459\n",
      "419 , 0.48142\n",
      "694 , 0.46282\n",
      "622 , 0.44833\n",
      "663 , 0.43628\n",
      "262 , 0.49458\n",
      "461 , 0.46780\n",
      "373 , 0.49626\n",
      "233 , 0.45459\n",
      "466 , 0.46282\n",
      "207 , 0.46780\n",
      "263 , 0.45459\n",
      "16 , 0.44296\n",
      "513 , 0.44296\n",
      "449 , 0.48142\n",
      "429 , 0.42853\n",
      "701 , 0.45459\n",
      "632 , 0.44194\n",
      "529 , 0.49458\n",
      "245 , 0.48826\n",
      "344 , 0.47353\n",
      "353 , 0.45498\n",
      "241 , 0.48142\n",
      "633 , 0.44677\n",
      "624 , 0.45459\n",
      "726 , 0.49078\n",
      "189 , 0.44833\n",
      "138 , 0.47511\n",
      "402 , 0.44677\n",
      "511 , 0.49458\n",
      "590 , 0.49374\n",
      "334 , 0.43945\n",
      "447 , 0.43323\n",
      "119 , 0.46282\n",
      "389 , 0.47101\n",
      "644 , 0.45459\n",
      "423 , 0.46282\n",
      "131 , 0.44296\n",
      "405 , 0.42332\n",
      "82 , 0.45459\n",
      "643 , 0.49626\n",
      "156 , 0.43945\n",
      "617 , 0.44194\n",
      "574 , 0.46282\n",
      "272 , 0.46780\n",
      "613 , 0.43945\n",
      "545 , 0.45459\n",
      "685 , 0.44677\n",
      "570 , 0.47511\n",
      "537 , 0.49458\n",
      "691 , 0.44677\n",
      "85 , 0.48142\n",
      "483 , 0.45498\n",
      "455 , 0.44350\n",
      "93 , 0.44833\n",
      "744 , 0.45459\n",
      "33 , 0.45498\n",
      "321 , 0.49078\n",
      "523 , 0.46282\n",
      "426 , 0.45498\n",
      "196 , 0.44350\n",
      "301 , 0.47101\n",
      "103 , 0.44677\n",
      "224 , 0.44296\n",
      "454 , 0.47456\n",
      "585 , 0.44296\n",
      "154 , 0.48142\n"
     ]
    }
   ],
   "source": [
    "for i in range(0,len(X_all_test)):\n",
    "    print donation_data_test.iloc[i,0],\",\",\"{:.5f}\".format(y_preds[i,1])\n"
   ]
  },
  {
   "cell_type": "code",
   "execution_count": null,
   "metadata": {
    "collapsed": true
   },
   "outputs": [],
   "source": []
  }
 ],
 "metadata": {
  "kernelspec": {
   "display_name": "Python 2",
   "language": "python",
   "name": "python2"
  },
  "language_info": {
   "codemirror_mode": {
    "name": "ipython",
    "version": 2
   },
   "file_extension": ".py",
   "mimetype": "text/x-python",
   "name": "python",
   "nbconvert_exporter": "python",
   "pygments_lexer": "ipython2",
   "version": "2.7.10"
  }
 },
 "nbformat": 4,
 "nbformat_minor": 0
}
