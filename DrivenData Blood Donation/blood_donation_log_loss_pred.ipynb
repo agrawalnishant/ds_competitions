{
 "cells": [
  {
   "cell_type": "code",
   "execution_count": 75,
   "metadata": {
    "collapsed": false
   },
   "outputs": [],
   "source": [
    "get_ipython().magic(u'matplotlib inline')\n",
    "# Import libraries\n",
    "import numpy as np\n",
    "import pandas as pd\n",
    "import matplotlib\n",
    "import matplotlib.pyplot as plt\n",
    "from time import time\n",
    "from __future__ import division\n",
    "from sklearn import cross_validation\n",
    "\n",
    "from sklearn.metrics import f1_score\n",
    "import warnings\n",
    "warnings.filterwarnings('ignore')\n",
    "\n",
    "pd.options.display.float_format = '{:.5f}'.format\n",
    "pd.set_option('display.max_columns', 500)\n",
    "pd.set_option('display.width', 1000)"
   ]
  },
  {
   "cell_type": "code",
   "execution_count": 82,
   "metadata": {
    "collapsed": false
   },
   "outputs": [
    {
     "name": "stdout",
     "output_type": "stream",
     "text": [
      "   Unnamed: 0  Months since Last Donation  Number of Donations  Total Volume Donated (c.c.)  Months since First Donation\n",
      "0         659                           2                   12                         3000                           52\n",
      "1         276                          21                    7                         1750                           38\n",
      "2         263                           4                    1                          250                            4\n",
      "3         303                          11                   11                         2750                           38\n",
      "4          83                           4                   12                         3000                           34\n",
      "Student data read successfully!\n",
      "orig: (576, 6)\n",
      "reduced: (572, 6)\n"
     ]
    }
   ],
   "source": [
    "donation_data_train_orig = pd.read_csv(\"bd_train.csv\")\n",
    "donation_data_test = pd.read_csv(\"bd_test.csv\")\n",
    "print donation_data_test.head()\n",
    "print \"Student data read successfully!\"\n",
    "#print \"Training Data:\\n\", donation_data_train.head()\n",
    "#print \"\\nTest Data:\\n\", donation_data_test.head()\n",
    "\n",
    "print \"orig:\",donation_data_train_orig.shape\n",
    "donation_data_train=donation_data_train_orig[donation_data_train_orig['Months since Last Donation']<30]\n",
    "print \"reduced:\", donation_data_train.shape"
   ]
  },
  {
   "cell_type": "code",
   "execution_count": 77,
   "metadata": {
    "collapsed": false
   },
   "outputs": [
    {
     "name": "stdout",
     "output_type": "stream",
     "text": [
      "Total number of donors: 572\n",
      "Total number of features: 4\n"
     ]
    }
   ],
   "source": [
    "n_donors = donation_data_train.shape[0]\n",
    "n_features = donation_data_train.shape[1]-2\n",
    "print \"Total number of donors: {}\".format(n_donors)\n",
    "print \"Total number of features: {}\".format(n_features)"
   ]
  },
  {
   "cell_type": "code",
   "execution_count": 78,
   "metadata": {
    "collapsed": false
   },
   "outputs": [
    {
     "name": "stdout",
     "output_type": "stream",
     "text": [
      "Target column: Made Donation in March 2007\n",
      "Feature column(s):-\n",
      "['Months since Last Donation', 'Number of Donations', 'Total Volume Donated (c.c.)', 'Months since First Donation']\n"
     ]
    }
   ],
   "source": [
    "# Extract feature (X) and target (y) columns\n",
    "feature_cols = list(donation_data_train.columns[1:-1])  # all columns but last are features\n",
    "target_col = donation_data_train.columns[-1]  # last column is the target/label\n",
    "print \"Target column: {}\".format(target_col)\n",
    "print \"Feature column(s):-\\n{}\".format(feature_cols)\n",
    "\n",
    "#axes = plt.gca()\n",
    "\n",
    "\n",
    "X_all = donation_data_train[feature_cols]  # feature values for all students\n",
    "y_all = donation_data_train[target_col]  # corresponding targets/labels\n",
    "X_all_test=donation_data_test[feature_cols] \n",
    "\n",
    "\n",
    "#plt.scatter(X_all['Months since Last Donation'],X_all['Months since First Donation'])\n",
    "#plt.ylabel(\"Months since Last Donation\")\n",
    "#plt.xlabel(\"Months since First Donation\")\n",
    "#plt.show()"
   ]
  },
  {
   "cell_type": "code",
   "execution_count": 79,
   "metadata": {
    "collapsed": false
   },
   "outputs": [],
   "source": [
    "#from sklearn.decomposition import PCA\n",
    "# Reduce features\n",
    "#pca = PCA(n_components=2,whiten=True).fit(X_all)\n",
    "#X_train_pca = pca.transform(X_all)\n",
    "#X_test_pca = pca.transform(X_all_test)"
   ]
  },
  {
   "cell_type": "code",
   "execution_count": 80,
   "metadata": {
    "collapsed": false
   },
   "outputs": [
    {
     "name": "stdout",
     "output_type": "stream",
     "text": [
      "best: {'bootstrap': True, 'min_samples_leaf': 3, 'min_samples_split': 2, 'criterion': 'gini', 'max_features': 2, 'max_depth': 4}\n",
      "sig f1 0.511415525114\n",
      "(200L,)\n",
      "(200L, 2L)\n",
      "    \n"
     ]
    }
   ],
   "source": [
    "from sklearn import grid_search\n",
    "from sklearn.metrics import log_loss\n",
    "\n",
    "\n",
    "from sklearn.grid_search import GridSearchCV\n",
    "from sklearn.ensemble import RandomForestClassifier\n",
    "\n",
    "\n",
    "np.set_printoptions(threshold=np.nan)\n",
    "np.set_printoptions(precision=3)\n",
    "np.set_printoptions(suppress=True)\n",
    "\n",
    "param_dist = {\"max_depth\": [2,3,4,5],\n",
    "              \"max_features\": [1,2,3],\n",
    "              \"min_samples_split\": [1,2],\n",
    "              \"min_samples_leaf\": [1,2,3,4,5],\n",
    "              \"bootstrap\": [True, False],\n",
    "              \"criterion\": [\"gini\", \"entropy\"]}\n",
    "\n",
    "\n",
    "# build a classifier\n",
    "clf = RandomForestClassifier(n_estimators=50,max_features=2)\n",
    "\n",
    "from sklearn.cross_validation import StratifiedShuffleSplit\n",
    "sss = StratifiedShuffleSplit(y_all, 4, test_size=0.3, random_state=11)\n",
    "# run grid search\n",
    "gs_clf = GridSearchCV(clf, param_grid=param_dist,cv=sss,scoring='log_loss')\n",
    "gs_clf.fit(X_all,y_all)\n",
    "\n",
    "print \"best:\", gs_clf.best_params_\n",
    "\n",
    "#print \"best: \", gs_clf.best_estimator_\n",
    "y_preds = gs_clf.predict_proba(X_all_test)\n",
    "print \"sig f1\", f1_score(y_all,gs_clf.predict(X_all)) \n",
    "\n",
    "\n",
    "print X_all_test.iloc[:,0].shape\n",
    "print y_preds.shape\n",
    "print \"    \"\n",
    "\n",
    "#print y_preds"
   ]
  },
  {
   "cell_type": "code",
   "execution_count": 81,
   "metadata": {
    "collapsed": false
   },
   "outputs": [
    {
     "name": "stdout",
     "output_type": "stream",
     "text": [
      "659 , 0.3551\n",
      "276 , 0.1591\n",
      "263 , 0.1533\n",
      "303 , 0.1785\n",
      "83 , 0.5592\n",
      "500 , 0.7951\n",
      "530 , 0.2523\n",
      "244 , 0.0932\n",
      "249 , 0.0398\n",
      "728 , 0.0627\n",
      "129 , 0.2007\n",
      "534 , 0.1609\n",
      "317 , 0.2307\n",
      "401 , 0.1533\n",
      "696 , 0.2940\n",
      "192 , 0.1464\n",
      "176 , 0.1444\n",
      "571 , 0.4291\n",
      "139 , 0.1401\n",
      "423 , 0.2913\n",
      "563 , 0.6075\n",
      "56 , 0.5104\n",
      "528 , 0.5298\n",
      "101 , 0.1533\n",
      "467 , 0.1899\n",
      "382 , 0.2886\n",
      "466 , 0.2879\n",
      "294 , 0.0932\n",
      "512 , 0.2306\n",
      "659 , 0.3551\n",
      "389 , 0.3143\n",
      "487 , 0.1602\n",
      "701 , 0.1830\n",
      "419 , 0.2560\n",
      "536 , 0.1643\n",
      "240 , 0.1440\n",
      "508 , 0.1845\n",
      "515 , 0.0932\n",
      "283 , 0.5424\n",
      "650 , 0.1533\n",
      "65 , 0.2906\n",
      "228 , 0.1442\n",
      "741 , 0.1233\n",
      "297 , 0.4515\n",
      "464 , 0.0959\n",
      "63 , 0.1830\n",
      "231 , 0.3635\n",
      "28 , 0.0946\n",
      "248 , 0.0932\n",
      "357 , 0.1484\n",
      "300 , 0.3464\n",
      "726 , 0.5397\n",
      "680 , 0.1411\n",
      "520 , 0.5104\n",
      "254 , 0.0515\n",
      "582 , 0.1861\n",
      "143 , 0.2952\n",
      "98 , 0.5308\n",
      "1 , 0.2799\n",
      "221 , 0.3464\n",
      "352 , 0.1533\n",
      "64 , 0.0874\n",
      "138 , 0.1456\n",
      "745 , 0.3572\n",
      "64 , 0.0874\n",
      "688 , 0.0584\n",
      "623 , 0.0945\n",
      "289 , 0.1261\n",
      "174 , 0.4248\n",
      "690 , 0.1533\n",
      "105 , 0.1581\n",
      "427 , 0.1101\n",
      "48 , 0.0769\n",
      "14 , 0.1533\n",
      "657 , 0.0450\n",
      "301 , 0.1609\n",
      "455 , 0.0959\n",
      "579 , 0.2441\n",
      "722 , 0.0980\n",
      "98 , 0.5308\n",
      "491 , 0.0769\n",
      "303 , 0.1785\n",
      "466 , 0.2879\n",
      "65 , 0.2906\n",
      "300 , 0.3464\n",
      "9 , 0.0892\n",
      "622 , 0.1464\n",
      "323 , 0.0584\n",
      "289 , 0.1261\n",
      "568 , 0.3025\n",
      "290 , 0.1533\n",
      "156 , 0.1696\n",
      "464 , 0.0959\n",
      "426 , 0.0926\n",
      "306 , 0.1625\n",
      "4 , 0.1908\n",
      "12 , 0.4279\n",
      "187 , 0.1384\n",
      "406 , 0.1502\n",
      "96 , 0.2523\n",
      "509 , 0.1830\n",
      "733 , 0.1347\n",
      "548 , 0.0690\n",
      "478 , 0.3090\n",
      "501 , 0.1288\n",
      "127 , 0.4320\n",
      "199 , 0.1082\n",
      "299 , 0.5238\n",
      "162 , 0.1533\n",
      "235 , 0.1391\n",
      "23 , 0.1175\n",
      "473 , 0.1533\n",
      "487 , 0.1602\n",
      "683 , 0.5865\n",
      "303 , 0.1785\n",
      "309 , 0.0392\n",
      "569 , 0.0860\n",
      "34 , 0.5865\n",
      "686 , 0.5855\n",
      "84 , 0.1696\n",
      "733 , 0.1347\n",
      "537 , 0.5562\n",
      "181 , 0.1422\n",
      "453 , 0.5784\n",
      "67 , 0.3554\n",
      "161 , 0.3545\n",
      "307 , 0.4178\n",
      "703 , 0.1568\n",
      "181 , 0.1422\n",
      "246 , 0.1319\n",
      "316 , 0.4427\n",
      "278 , 0.1464\n",
      "346 , 0.2016\n",
      "545 , 0.1533\n",
      "419 , 0.2560\n",
      "694 , 0.2523\n",
      "622 , 0.1464\n",
      "663 , 0.0883\n",
      "262 , 0.6061\n",
      "461 , 0.3689\n",
      "373 , 0.6335\n",
      "233 , 0.1533\n",
      "466 , 0.2879\n",
      "207 , 0.2952\n",
      "263 , 0.1533\n",
      "16 , 0.0860\n",
      "513 , 0.0538\n",
      "449 , 0.4309\n",
      "429 , 0.0265\n",
      "701 , 0.1830\n",
      "632 , 0.0583\n",
      "529 , 0.5677\n",
      "245 , 0.1716\n",
      "344 , 0.1498\n",
      "353 , 0.1472\n",
      "241 , 0.2305\n",
      "633 , 0.0681\n",
      "624 , 0.1830\n",
      "726 , 0.5397\n",
      "189 , 0.1464\n",
      "138 , 0.1456\n",
      "402 , 0.0932\n",
      "511 , 0.5248\n",
      "590 , 0.3549\n",
      "334 , 0.1969\n",
      "447 , 0.0477\n",
      "119 , 0.2879\n",
      "389 , 0.3143\n",
      "644 , 0.1533\n",
      "423 , 0.2913\n",
      "131 , 0.0860\n",
      "405 , 0.0769\n",
      "82 , 0.1533\n",
      "643 , 0.6928\n",
      "156 , 0.1696\n",
      "617 , 0.0616\n",
      "574 , 0.3145\n",
      "272 , 0.2991\n",
      "613 , 0.0676\n",
      "545 , 0.1533\n",
      "685 , 0.0932\n",
      "570 , 0.1476\n",
      "537 , 0.5562\n",
      "691 , 0.0681\n",
      "85 , 0.3197\n",
      "483 , 0.1319\n",
      "455 , 0.0959\n",
      "93 , 0.1464\n",
      "744 , 0.1830\n",
      "33 , 0.1319\n",
      "321 , 0.6213\n",
      "523 , 0.1598\n",
      "426 , 0.0926\n",
      "196 , 0.0807\n",
      "301 , 0.1609\n",
      "103 , 0.0681\n",
      "224 , 0.0746\n",
      "454 , 0.1736\n",
      "585 , 0.0497\n",
      "154 , 0.2464\n"
     ]
    }
   ],
   "source": [
    "for i in range(0,len(X_all_test)):\n",
    "    print donation_data_test.iloc[i,0],\",\",\"{:.4f}\".format(y_preds[i,1])\n"
   ]
  },
  {
   "cell_type": "code",
   "execution_count": null,
   "metadata": {
    "collapsed": true
   },
   "outputs": [],
   "source": []
  },
  {
   "cell_type": "code",
   "execution_count": null,
   "metadata": {
    "collapsed": true
   },
   "outputs": [],
   "source": []
  }
 ],
 "metadata": {
  "kernelspec": {
   "display_name": "Python 2",
   "language": "python",
   "name": "python2"
  },
  "language_info": {
   "codemirror_mode": {
    "name": "ipython",
    "version": 2
   },
   "file_extension": ".py",
   "mimetype": "text/x-python",
   "name": "python",
   "nbconvert_exporter": "python",
   "pygments_lexer": "ipython2",
   "version": "2.7.10"
  }
 },
 "nbformat": 4,
 "nbformat_minor": 0
}
